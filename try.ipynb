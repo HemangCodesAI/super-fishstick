{
 "cells": [
  {
   "cell_type": "code",
   "execution_count": 2,
   "metadata": {},
   "outputs": [],
   "source": [
    "from dotenv import load_dotenv\n",
    "import os"
   ]
  },
  {
   "cell_type": "code",
   "execution_count": 3,
   "metadata": {},
   "outputs": [],
   "source": [
    "import google.generativeai as genai"
   ]
  },
  {
   "cell_type": "code",
   "execution_count": 4,
   "metadata": {},
   "outputs": [],
   "source": [
    "load_dotenv()\n",
    "genai.configure(api_key=os.getenv(\"google_ai_key\"))"
   ]
  },
  {
   "cell_type": "code",
   "execution_count": 5,
   "metadata": {},
   "outputs": [
    {
     "name": "stdout",
     "output_type": "stream",
     "text": [
      "Model(name='models/chat-bison-001',\n",
      "      base_model_id='',\n",
      "      version='001',\n",
      "      display_name='PaLM 2 Chat (Legacy)',\n",
      "      description='A legacy text-only model optimized for chat conversations',\n",
      "      input_token_limit=4096,\n",
      "      output_token_limit=1024,\n",
      "      supported_generation_methods=['generateMessage', 'countMessageTokens'],\n",
      "      temperature=0.25,\n",
      "      top_p=0.95,\n",
      "      top_k=40)\n",
      "Model(name='models/text-bison-001',\n",
      "      base_model_id='',\n",
      "      version='001',\n",
      "      display_name='PaLM 2 (Legacy)',\n",
      "      description='A legacy model that understands text and generates text as an output',\n",
      "      input_token_limit=8196,\n",
      "      output_token_limit=1024,\n",
      "      supported_generation_methods=['generateText', 'countTextTokens', 'createTunedTextModel'],\n",
      "      temperature=0.7,\n",
      "      top_p=0.95,\n",
      "      top_k=40)\n",
      "Model(name='models/embedding-gecko-001',\n",
      "      base_model_id='',\n",
      "      version='001',\n",
      "      display_name='Embedding Gecko',\n",
      "      description='Obtain a distributed representation of a text.',\n",
      "      input_token_limit=1024,\n",
      "      output_token_limit=1,\n",
      "      supported_generation_methods=['embedText', 'countTextTokens'],\n",
      "      temperature=None,\n",
      "      top_p=None,\n",
      "      top_k=None)\n",
      "Model(name='models/gemini-1.0-pro',\n",
      "      base_model_id='',\n",
      "      version='001',\n",
      "      display_name='Gemini 1.0 Pro',\n",
      "      description='The best model for scaling across a wide range of tasks',\n",
      "      input_token_limit=30720,\n",
      "      output_token_limit=2048,\n",
      "      supported_generation_methods=['generateContent', 'countTokens'],\n",
      "      temperature=0.9,\n",
      "      top_p=1.0,\n",
      "      top_k=None)\n",
      "Model(name='models/gemini-1.0-pro-001',\n",
      "      base_model_id='',\n",
      "      version='001',\n",
      "      display_name='Gemini 1.0 Pro 001 (Tuning)',\n",
      "      description=('The best model for scaling across a wide range of tasks. This is a stable '\n",
      "                   'model that supports tuning.'),\n",
      "      input_token_limit=30720,\n",
      "      output_token_limit=2048,\n",
      "      supported_generation_methods=['generateContent', 'countTokens', 'createTunedModel'],\n",
      "      temperature=0.9,\n",
      "      top_p=1.0,\n",
      "      top_k=None)\n",
      "Model(name='models/gemini-1.0-pro-latest',\n",
      "      base_model_id='',\n",
      "      version='001',\n",
      "      display_name='Gemini 1.0 Pro Latest',\n",
      "      description=('The best model for scaling across a wide range of tasks. This is the latest '\n",
      "                   'model.'),\n",
      "      input_token_limit=30720,\n",
      "      output_token_limit=2048,\n",
      "      supported_generation_methods=['generateContent', 'countTokens'],\n",
      "      temperature=0.9,\n",
      "      top_p=1.0,\n",
      "      top_k=None)\n",
      "Model(name='models/gemini-1.0-pro-vision-latest',\n",
      "      base_model_id='',\n",
      "      version='001',\n",
      "      display_name='Gemini 1.0 Pro Vision',\n",
      "      description='The best image understanding model to handle a broad range of applications',\n",
      "      input_token_limit=12288,\n",
      "      output_token_limit=4096,\n",
      "      supported_generation_methods=['generateContent', 'countTokens'],\n",
      "      temperature=0.4,\n",
      "      top_p=1.0,\n",
      "      top_k=32)\n",
      "Model(name='models/gemini-1.5-pro-latest',\n",
      "      base_model_id='',\n",
      "      version='001',\n",
      "      display_name='Gemini 1.5 Pro',\n",
      "      description='Mid-size multimodal model that supports up to 1 million tokens',\n",
      "      input_token_limit=1048576,\n",
      "      output_token_limit=8192,\n",
      "      supported_generation_methods=['generateContent', 'countTokens'],\n",
      "      temperature=1.0,\n",
      "      top_p=0.95,\n",
      "      top_k=64)\n",
      "Model(name='models/gemini-pro',\n",
      "      base_model_id='',\n",
      "      version='001',\n",
      "      display_name='Gemini 1.0 Pro',\n",
      "      description='The best model for scaling across a wide range of tasks',\n",
      "      input_token_limit=30720,\n",
      "      output_token_limit=2048,\n",
      "      supported_generation_methods=['generateContent', 'countTokens'],\n",
      "      temperature=0.9,\n",
      "      top_p=1.0,\n",
      "      top_k=None)\n",
      "Model(name='models/gemini-pro-vision',\n",
      "      base_model_id='',\n",
      "      version='001',\n",
      "      display_name='Gemini 1.0 Pro Vision',\n",
      "      description='The best image understanding model to handle a broad range of applications',\n",
      "      input_token_limit=12288,\n",
      "      output_token_limit=4096,\n",
      "      supported_generation_methods=['generateContent', 'countTokens'],\n",
      "      temperature=0.4,\n",
      "      top_p=1.0,\n",
      "      top_k=32)\n",
      "Model(name='models/embedding-001',\n",
      "      base_model_id='',\n",
      "      version='001',\n",
      "      display_name='Embedding 001',\n",
      "      description='Obtain a distributed representation of a text.',\n",
      "      input_token_limit=2048,\n",
      "      output_token_limit=1,\n",
      "      supported_generation_methods=['embedContent'],\n",
      "      temperature=None,\n",
      "      top_p=None,\n",
      "      top_k=None)\n",
      "Model(name='models/text-embedding-004',\n",
      "      base_model_id='',\n",
      "      version='004',\n",
      "      display_name='Text Embedding 004',\n",
      "      description='Obtain a distributed representation of a text.',\n",
      "      input_token_limit=2048,\n",
      "      output_token_limit=1,\n",
      "      supported_generation_methods=['embedContent'],\n",
      "      temperature=None,\n",
      "      top_p=None,\n",
      "      top_k=None)\n",
      "Model(name='models/aqa',\n",
      "      base_model_id='',\n",
      "      version='001',\n",
      "      display_name='Model that performs Attributed Question Answering.',\n",
      "      description=('Model trained to return answers to questions that are grounded in provided '\n",
      "                   'sources, along with estimating answerable probability.'),\n",
      "      input_token_limit=7168,\n",
      "      output_token_limit=1024,\n",
      "      supported_generation_methods=['generateAnswer'],\n",
      "      temperature=0.2,\n",
      "      top_p=1.0,\n",
      "      top_k=40)\n"
     ]
    }
   ],
   "source": [
    "for m in genai.list_models():\n",
    "    print(m)"
   ]
  },
  {
   "cell_type": "code",
   "execution_count": 19,
   "metadata": {},
   "outputs": [
    {
     "data": {
      "text/plain": [
       "ChatSession(\n",
       "    model=genai.GenerativeModel(\n",
       "        model_name='models/gemini-pro',\n",
       "        generation_config={},\n",
       "        safety_settings={},\n",
       "        tools=None,\n",
       "        system_instruction=None,\n",
       "    ),\n",
       "    history=[]\n",
       ")"
      ]
     },
     "execution_count": 19,
     "metadata": {},
     "output_type": "execute_result"
    }
   ],
   "source": [
    "model=genai.GenerativeModel(\"gemini-pro\")\n",
    "chat=model.start_chat(history=[])\n",
    "chat"
   ]
  },
  {
   "cell_type": "code",
   "execution_count": 20,
   "metadata": {},
   "outputs": [],
   "source": [
    "code='''<!DOCTYPE html>\n",
    "<html>\n",
    "<head>\n",
    "  <title>MRINAL</title>\n",
    "  <link rel=\"stylesheet\" href=\"https://cdnjs.cloudflare.com/ajax/libs/font-awesome/5.15.3/css/all.min.css\">\n",
    "  <script src=\"https://cdn.tailwindcss.com\"></script>\n",
    "  <link rel=\"preconnect\" href=\"https://fonts.googleapis.com\">\n",
    "  <link rel=\"preconnect\" href=\"https://fonts.gstatic.com\" crossorigin>\n",
    "  <link href=\"https://fonts.googleapis.com/css2?family=Poppins:wght@400;500;600&display=swap\" rel=\"stylesheet\">\n",
    "  <style>\n",
    "    body {\n",
    "      font-family: 'Poppins', sans-serif;\n",
    "    }\n",
    "  </style>\n",
    "</head>\n",
    "<body>\n",
    "  <div class=\"bg-[#1E293B] text-white flex flex-col items-center justify-center min-h-screen\">\n",
    "    <div class=\"text-4xl font-bold\">MRINAL</div>\n",
    "    <div class=\"flex items-center mt-4\">\n",
    "      <input type=\"text\" class=\"bg-transparent border border-white rounded-lg px-4 py-2 w-[300px] focus:outline-none\" placeholder=\"Search\">\n",
    "      <button class=\"bg-transparent border border-white rounded-lg px-4 py-2 ml-2 text-white hover:bg-white hover:text-[#1E293B] transition-all duration-300\">\n",
    "        <svg xmlns=\"http://www.w3.org/2000/svg\" class=\"h-6 w-6\" fill=\"none\" viewBox=\"0 0 24 24\" stroke=\"currentColor\">\n",
    "          <path stroke-linecap=\"round\" stroke-linejoin=\"round\" stroke-width=\"2\" d=\"M21 21l-6-6m2-5a7 7 0 11-14 0 7 7 0 0114 0z\" />\n",
    "        </svg>\n",
    "      </button>\n",
    "    </div>\n",
    "    <div class=\"flex justify-center mt-8\">\n",
    "      <a href=\"https://www.google.com\" target=\"_blank\" class=\"flex items-center justify-center w-[120px] h-[120px] rounded-full border border-white hover:bg-white hover:text-[#1E293B] transition-all duration-300\">\n",
    "        <img src=\"https://placehold.co/120x120\" alt=\"Google logo\">\n",
    "        <div class=\"text-lg font-semibold\">Google</div>\n",
    "      </a>\n",
    "      <a href=\"https://www.youtube.com\" target=\"_blank\" class=\"flex items-center justify-center w-[120px] h-[120px] rounded-full border border-white hover:bg-white hover:text-[#1E293B] transition-all duration-300 ml-4\">\n",
    "        <img src=\"https://placehold.co/120x120\" alt=\"YouTube logo\">\n",
    "        <div class=\"text-lg font-semibold\">YouTube</div>\n",
    "      </a>\n",
    "      <a href=\"https://github.com\" target=\"_blank\" class=\"flex items-center justify-center w-[120px] h-[120px] rounded-full border border-white hover:bg-white hover:text-[#1E293B] transition-all duration-300 ml-4\">\n",
    "        <img src=\"https://placehold.co/120x120\" alt=\"GitHub logo\">\n",
    "        <div class=\"text-lg font-semibold\">GitHub</div>\n",
    "      </a>\n",
    "    </div>\n",
    "    <div class=\"text-center mt-8 text-gray-400\">This is a prototype of a website</div>\n",
    "  </div>\n",
    "</body>\n",
    "</html>'''"
   ]
  },
  {
   "cell_type": "code",
   "execution_count": 21,
   "metadata": {},
   "outputs": [],
   "source": [
    "inp=f'''Yor are a expert web developer and the I have asked you to make me a website as per my design, you have made the webite using Tailwind, HTML and JS\n",
    ". you have done an excelent job .\n",
    "here is the code that you gave {code}. \n",
    "Now i want you to do some minor updates in this code and help me imporve the code. you will only update the code without adding any comments , you will tell me exactly where in the code i will need to paste the changes\n",
    "let me know you are ready for the task by just saying lets go , than i will tell you what updates i want'''"
   ]
  },
  {
   "cell_type": "code",
   "execution_count": 22,
   "metadata": {},
   "outputs": [
    {
     "data": {
      "text/plain": [
       "[parts {\n",
       "   text: \"Yor are a expert web developer and the I have asked you to make me a website as per my design, you have made the webite using Tailwind, HTML and JS\\n. you have done an excelent job .\\nhere is the code that you gave <!DOCTYPE html>\\n<html>\\n<head>\\n  <title>MRINAL</title>\\n  <link rel=\\\"stylesheet\\\" href=\\\"https://cdnjs.cloudflare.com/ajax/libs/font-awesome/5.15.3/css/all.min.css\\\">\\n  <script src=\\\"https://cdn.tailwindcss.com\\\"></script>\\n  <link rel=\\\"preconnect\\\" href=\\\"https://fonts.googleapis.com\\\">\\n  <link rel=\\\"preconnect\\\" href=\\\"https://fonts.gstatic.com\\\" crossorigin>\\n  <link href=\\\"https://fonts.googleapis.com/css2?family=Poppins:wght@400;500;600&display=swap\\\" rel=\\\"stylesheet\\\">\\n  <style>\\n    body {\\n      font-family: \\'Poppins\\', sans-serif;\\n    }\\n  </style>\\n</head>\\n<body>\\n  <div class=\\\"bg-[#1E293B] text-white flex flex-col items-center justify-center min-h-screen\\\">\\n    <div class=\\\"text-4xl font-bold\\\">MRINAL</div>\\n    <div class=\\\"flex items-center mt-4\\\">\\n      <input type=\\\"text\\\" class=\\\"bg-transparent border border-white rounded-lg px-4 py-2 w-[300px] focus:outline-none\\\" placeholder=\\\"Search\\\">\\n      <button class=\\\"bg-transparent border border-white rounded-lg px-4 py-2 ml-2 text-white hover:bg-white hover:text-[#1E293B] transition-all duration-300\\\">\\n        <svg xmlns=\\\"http://www.w3.org/2000/svg\\\" class=\\\"h-6 w-6\\\" fill=\\\"none\\\" viewBox=\\\"0 0 24 24\\\" stroke=\\\"currentColor\\\">\\n          <path stroke-linecap=\\\"round\\\" stroke-linejoin=\\\"round\\\" stroke-width=\\\"2\\\" d=\\\"M21 21l-6-6m2-5a7 7 0 11-14 0 7 7 0 0114 0z\\\" />\\n        </svg>\\n      </button>\\n    </div>\\n    <div class=\\\"flex justify-center mt-8\\\">\\n      <a href=\\\"https://www.google.com\\\" target=\\\"_blank\\\" class=\\\"flex items-center justify-center w-[120px] h-[120px] rounded-full border border-white hover:bg-white hover:text-[#1E293B] transition-all duration-300\\\">\\n        <img src=\\\"https://placehold.co/120x120\\\" alt=\\\"Google logo\\\">\\n        <div class=\\\"text-lg font-semibold\\\">Google</div>\\n      </a>\\n      <a href=\\\"https://www.youtube.com\\\" target=\\\"_blank\\\" class=\\\"flex items-center justify-center w-[120px] h-[120px] rounded-full border border-white hover:bg-white hover:text-[#1E293B] transition-all duration-300 ml-4\\\">\\n        <img src=\\\"https://placehold.co/120x120\\\" alt=\\\"YouTube logo\\\">\\n        <div class=\\\"text-lg font-semibold\\\">YouTube</div>\\n      </a>\\n      <a href=\\\"https://github.com\\\" target=\\\"_blank\\\" class=\\\"flex items-center justify-center w-[120px] h-[120px] rounded-full border border-white hover:bg-white hover:text-[#1E293B] transition-all duration-300 ml-4\\\">\\n        <img src=\\\"https://placehold.co/120x120\\\" alt=\\\"GitHub logo\\\">\\n        <div class=\\\"text-lg font-semibold\\\">GitHub</div>\\n      </a>\\n    </div>\\n    <div class=\\\"text-center mt-8 text-gray-400\\\">This is a prototype of a website</div>\\n  </div>\\n</body>\\n</html>. \\nNow i want you to do some minor updates in this code and help me imporve the code. you will only update the code without adding any comments , you will tell me exactly where in the code i will need to paste the changes\\nlet me know you are ready for the task by just saying lets go , than i will tell you what updates i want\"\n",
       " }\n",
       " role: \"user\",\n",
       " parts {\n",
       "   text: \"Let\\'s go\"\n",
       " }\n",
       " role: \"model\"]"
      ]
     },
     "execution_count": 22,
     "metadata": {},
     "output_type": "execute_result"
    }
   ],
   "source": [
    "res=chat.send_message(inp)\n",
    "chat.history"
   ]
  },
  {
   "cell_type": "code",
   "execution_count": 23,
   "metadata": {},
   "outputs": [
    {
     "data": {
      "text/plain": [
       "response:\n",
       "GenerateContentResponse(\n",
       "    done=True,\n",
       "    iterator=None,\n",
       "    result=glm.GenerateContentResponse({'candidates': [{'content': {'parts': [{'text': '```html\\n<div class=\"flex justify-center mt-8\">\\n  <a href=\"https://www.youtube.com\" target=\"_blank\" class=\"flex items-center justify-center w-[120px] h-[120px] rounded-full border border-white hover:bg-white hover:text-[#1E293B] transition-all duration-300 ml-4\">\\n    <img src=\"https://placehold.co/120x120\" alt=\"YouTube logo\">\\n    <div class=\"text-lg font-semibold\">YouTube</div>\\n  </a>\\n  <a href=\"https://github.com\" target=\"_blank\" class=\"flex items-center justify-center w-[120px] h-[120px] rounded-full border border-white hover:bg-white hover:text-[#1E293B] transition-all duration-300 ml-4\">\\n    <img src=\"https://placehold.co/120x120\" alt=\"GitHub logo\">\\n    <div class=\"text-lg font-semibold\">GitHub</div>\\n  </a>\\n</div>\\n```\\n\\nPaste this code in place of the existing `div` with the class `flex justify-center mt-8`.'}], 'role': 'model'}, 'finish_reason': 1, 'index': 0, 'safety_ratings': [{'category': 9, 'probability': 1, 'blocked': False}, {'category': 8, 'probability': 1, 'blocked': False}, {'category': 7, 'probability': 1, 'blocked': False}, {'category': 10, 'probability': 1, 'blocked': False}], 'token_count': 0, 'grounding_attributions': []}]}),\n",
       ")"
      ]
     },
     "execution_count": 23,
     "metadata": {},
     "output_type": "execute_result"
    }
   ],
   "source": [
    "res=chat.send_message(\"remove the google button\")\n",
    "res"
   ]
  },
  {
   "cell_type": "code",
   "execution_count": 41,
   "metadata": {},
   "outputs": [
    {
     "data": {
      "text/plain": [
       "[parts {\n",
       "   text: \"Yor are a expert web developer and the I have asked you to make me a website as per my design, you have made the webite using Tailwind, HTML and JS\\n. you have done an excelent job .\\nhere is the code that you gave <!DOCTYPE html>\\n<html>\\n<head>\\n  <title>MRINAL</title>\\n  <link rel=\\\"stylesheet\\\" href=\\\"https://cdnjs.cloudflare.com/ajax/libs/font-awesome/5.15.3/css/all.min.css\\\">\\n  <script src=\\\"https://cdn.tailwindcss.com\\\"></script>\\n  <link rel=\\\"preconnect\\\" href=\\\"https://fonts.googleapis.com\\\">\\n  <link rel=\\\"preconnect\\\" href=\\\"https://fonts.gstatic.com\\\" crossorigin>\\n  <link href=\\\"https://fonts.googleapis.com/css2?family=Poppins:wght@400;500;600&display=swap\\\" rel=\\\"stylesheet\\\">\\n  <style>\\n    body {\\n      font-family: \\'Poppins\\', sans-serif;\\n    }\\n  </style>\\n</head>\\n<body>\\n  <div class=\\\"bg-[#1E293B] text-white flex flex-col items-center justify-center min-h-screen\\\">\\n    <div class=\\\"text-4xl font-bold\\\">MRINAL</div>\\n    <div class=\\\"flex items-center mt-4\\\">\\n      <input type=\\\"text\\\" class=\\\"bg-transparent border border-white rounded-lg px-4 py-2 w-[300px] focus:outline-none\\\" placeholder=\\\"Search\\\">\\n      <button class=\\\"bg-transparent border border-white rounded-lg px-4 py-2 ml-2 text-white hover:bg-white hover:text-[#1E293B] transition-all duration-300\\\">\\n        <svg xmlns=\\\"http://www.w3.org/2000/svg\\\" class=\\\"h-6 w-6\\\" fill=\\\"none\\\" viewBox=\\\"0 0 24 24\\\" stroke=\\\"currentColor\\\">\\n          <path stroke-linecap=\\\"round\\\" stroke-linejoin=\\\"round\\\" stroke-width=\\\"2\\\" d=\\\"M21 21l-6-6m2-5a7 7 0 11-14 0 7 7 0 0114 0z\\\" />\\n        </svg>\\n      </button>\\n    </div>\\n    <div class=\\\"flex justify-center mt-8\\\">\\n      <a href=\\\"https://www.google.com\\\" target=\\\"_blank\\\" class=\\\"flex items-center justify-center w-[120px] h-[120px] rounded-full border border-white hover:bg-white hover:text-[#1E293B] transition-all duration-300\\\">\\n        <img src=\\\"https://placehold.co/120x120\\\" alt=\\\"Google logo\\\">\\n        <div class=\\\"text-lg font-semibold\\\">Google</div>\\n      </a>\\n      <a href=\\\"https://www.youtube.com\\\" target=\\\"_blank\\\" class=\\\"flex items-center justify-center w-[120px] h-[120px] rounded-full border border-white hover:bg-white hover:text-[#1E293B] transition-all duration-300 ml-4\\\">\\n        <img src=\\\"https://placehold.co/120x120\\\" alt=\\\"YouTube logo\\\">\\n        <div class=\\\"text-lg font-semibold\\\">YouTube</div>\\n      </a>\\n      <a href=\\\"https://github.com\\\" target=\\\"_blank\\\" class=\\\"flex items-center justify-center w-[120px] h-[120px] rounded-full border border-white hover:bg-white hover:text-[#1E293B] transition-all duration-300 ml-4\\\">\\n        <img src=\\\"https://placehold.co/120x120\\\" alt=\\\"GitHub logo\\\">\\n        <div class=\\\"text-lg font-semibold\\\">GitHub</div>\\n      </a>\\n    </div>\\n    <div class=\\\"text-center mt-8 text-gray-400\\\">This is a prototype of a website</div>\\n  </div>\\n</body>\\n</html>. \\nNow i want you to do some minor updates in this code and help me imporve the code. you will only update the code without adding any comments , you will tell me exactly where in the code i will need to paste the changes\\nlet me know you are ready for the task by just saying lets go , than i will tell you what updates i want\"\n",
       " }\n",
       " role: \"user\",\n",
       " parts {\n",
       "   text: \"Let\\'s go\"\n",
       " }\n",
       " role: \"model\",\n",
       " parts {\n",
       "   text: \"remove the google button\"\n",
       " }\n",
       " role: \"user\",\n",
       " parts {\n",
       "   text: \"```html\\n<div class=\\\"flex justify-center mt-8\\\">\\n  <a href=\\\"https://www.youtube.com\\\" target=\\\"_blank\\\" class=\\\"flex items-center justify-center w-[120px] h-[120px] rounded-full border border-white hover:bg-white hover:text-[#1E293B] transition-all duration-300 ml-4\\\">\\n    <img src=\\\"https://placehold.co/120x120\\\" alt=\\\"YouTube logo\\\">\\n    <div class=\\\"text-lg font-semibold\\\">YouTube</div>\\n  </a>\\n  <a href=\\\"https://github.com\\\" target=\\\"_blank\\\" class=\\\"flex items-center justify-center w-[120px] h-[120px] rounded-full border border-white hover:bg-white hover:text-[#1E293B] transition-all duration-300 ml-4\\\">\\n    <img src=\\\"https://placehold.co/120x120\\\" alt=\\\"GitHub logo\\\">\\n    <div class=\\\"text-lg font-semibold\\\">GitHub</div>\\n  </a>\\n</div>\\n```\\n\\nPaste this code in place of the existing `div` with the class `flex justify-center mt-8`.\"\n",
       " }\n",
       " role: \"model\"]"
      ]
     },
     "execution_count": 41,
     "metadata": {},
     "output_type": "execute_result"
    }
   ],
   "source": [
    "chat.history\n"
   ]
  },
  {
   "cell_type": "code",
   "execution_count": null,
   "metadata": {},
   "outputs": [],
   "source": [
    "prompt=\"he he ho\""
   ]
  },
  {
   "cell_type": "code",
   "execution_count": 40,
   "metadata": {},
   "outputs": [
    {
     "ename": "SyntaxError",
     "evalue": "unterminated string literal (detected at line 5) (2565124246.py, line 5)",
     "output_type": "error",
     "traceback": [
      "\u001b[1;36m  Cell \u001b[1;32mIn[40], line 5\u001b[1;36m\u001b[0m\n\u001b[1;33m    role: \"user\u001b[0m\n\u001b[1;37m          ^\u001b[0m\n\u001b[1;31mSyntaxError\u001b[0m\u001b[1;31m:\u001b[0m unterminated string literal (detected at line 5)\n"
     ]
    }
   ],
   "source": [
    "his=[]\n",
    "template=parts{text: {prompt}}\n",
    "role: \"user\n",
    "\n",
    "template"
   ]
  },
  {
   "cell_type": "code",
   "execution_count": null,
   "metadata": {},
   "outputs": [],
   "source": []
  }
 ],
 "metadata": {
  "kernelspec": {
   "display_name": "Python 3",
   "language": "python",
   "name": "python3"
  },
  "language_info": {
   "codemirror_mode": {
    "name": "ipython",
    "version": 3
   },
   "file_extension": ".py",
   "mimetype": "text/x-python",
   "name": "python",
   "nbconvert_exporter": "python",
   "pygments_lexer": "ipython3",
   "version": "3.10.0"
  }
 },
 "nbformat": 4,
 "nbformat_minor": 2
}
